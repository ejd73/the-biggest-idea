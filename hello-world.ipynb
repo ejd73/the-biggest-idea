{
 "cells": [
  {
   "cell_type": "markdown",
   "metadata": {},
   "source": [
    "# A JupyterHub Notebook"
   ]
  },
  {
   "cell_type": "code",
   "execution_count": 5,
   "metadata": {},
   "outputs": [
    {
     "name": "stdin",
     "output_type": "stream",
     "text": [
      "What's your name?  Jordan\n",
      "Enter your favorite number:  5\n"
     ]
    },
    {
     "name": "stdout",
     "output_type": "stream",
     "text": [
      "Very cool, Jordan! That's a prime number!\n",
      "Jordan, your favorite number, 5, is odd.\n"
     ]
    }
   ],
   "source": [
    "import math\n",
    "\n",
    "# Python Program that gets a name and some input\n",
    "name = input(\"What's your name? \")\n",
    "while(True):\n",
    "    try:\n",
    "        num = int(input(\"Enter your favorite number: \"))\n",
    "        break\n",
    "    except:\n",
    "        print(\"Sorry, try again. Make sure you enter an integer!\")\n",
    "\n",
    "def isprime(numin):\n",
    "    #if even, not prime\n",
    "    if(num%2==0):\n",
    "        return False\n",
    "    #else, check for divisibility by odds less than its square root\n",
    "    root = math.sqrt(numin)\n",
    "    for i in range(3,int(root)+1,2):\n",
    "        if(num%i==0):\n",
    "            return False\n",
    "    return True\n",
    "\n",
    "def iseven(numin):\n",
    "    if (numin%2==0):\n",
    "        print(name+ \", your favorite number, \"+ str(num) + \", is even.\")\n",
    "    else:\n",
    "        print(name+ \", your favorite number, \"+ str(num) +\", is odd.\")\n",
    "    \n",
    "    \n",
    "if(isprime(num)):\n",
    "    print(f\"Very cool, {name}! That's a prime number!\")\n",
    "else:\n",
    "    print(f\"I'm disappointed in you, {name}. That's not a prime number. How boring.\")\n",
    "    \n",
    "iseven(num)"
   ]
  }
 ],
 "metadata": {
  "kernelspec": {
   "display_name": "Python 3",
   "language": "python",
   "name": "python3"
  },
  "language_info": {
   "codemirror_mode": {
    "name": "ipython",
    "version": 3
   },
   "file_extension": ".py",
   "mimetype": "text/x-python",
   "name": "python",
   "nbconvert_exporter": "python",
   "pygments_lexer": "ipython3",
   "version": "3.8.3"
  }
 },
 "nbformat": 4,
 "nbformat_minor": 4
}
